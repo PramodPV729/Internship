{
 "cells": [
  {
   "cell_type": "code",
   "execution_count": 1,
   "metadata": {},
   "outputs": [],
   "source": [
    "# Importing neccessary Libraries\n",
    "\n",
    "import pandas as pd\n",
    "import numpy as np\n",
    "import matplotlib.pyplot as plt\n",
    "import seaborn as sns\n",
    "\n",
    "from sklearn.preprocessing import LabelEncoder\n",
    "from sklearn.model_selection import train_test_split\n",
    "from sklearn.preprocessing import normalize\n",
    "\n",
    "from sklearn.metrics import accuracy_score,classification_report,precision_score,f1_score,recall_score,confusion_matrix\n",
    "\n",
    "from sklearn.linear_model import LogisticRegression\n",
    "from sklearn.tree import DecisionTreeClassifier\n",
    "from sklearn.neighbors import KNeighborsClassifier\n",
    "from sklearn.ensemble import RandomForestClassifier\n",
    "from xgboost import XGBClassifier\n",
    "from sklearn.ensemble import RandomForestClassifier\n",
    "from sklearn.ensemble import GradientBoostingClassifier\n",
    "from sklearn.svm import SVC\n"
   ]
  },
  {
   "cell_type": "code",
   "execution_count": 2,
   "metadata": {},
   "outputs": [
    {
     "data": {
      "text/html": [
       "<div>\n",
       "<style scoped>\n",
       "    .dataframe tbody tr th:only-of-type {\n",
       "        vertical-align: middle;\n",
       "    }\n",
       "\n",
       "    .dataframe tbody tr th {\n",
       "        vertical-align: top;\n",
       "    }\n",
       "\n",
       "    .dataframe thead th {\n",
       "        text-align: right;\n",
       "    }\n",
       "</style>\n",
       "<table border=\"1\" class=\"dataframe\">\n",
       "  <thead>\n",
       "    <tr style=\"text-align: right;\">\n",
       "      <th></th>\n",
       "      <th>Names</th>\n",
       "      <th>Age</th>\n",
       "      <th>Gender</th>\n",
       "      <th>Race</th>\n",
       "      <th>Side effects</th>\n",
       "    </tr>\n",
       "  </thead>\n",
       "  <tbody>\n",
       "    <tr>\n",
       "      <th>0</th>\n",
       "      <td>Carry</td>\n",
       "      <td>31.0</td>\n",
       "      <td>F</td>\n",
       "      <td>Black</td>\n",
       "      <td>sleep problems (insomnia)</td>\n",
       "    </tr>\n",
       "    <tr>\n",
       "      <th>1</th>\n",
       "      <td>Servando</td>\n",
       "      <td>55.0</td>\n",
       "      <td>M</td>\n",
       "      <td>Black</td>\n",
       "      <td>diarrhea</td>\n",
       "    </tr>\n",
       "    <tr>\n",
       "      <th>2</th>\n",
       "      <td>Julus</td>\n",
       "      <td>46.0</td>\n",
       "      <td>M</td>\n",
       "      <td>Asian</td>\n",
       "      <td>nausea</td>\n",
       "    </tr>\n",
       "    <tr>\n",
       "      <th>3</th>\n",
       "      <td>Hanako</td>\n",
       "      <td>49.0</td>\n",
       "      <td>F</td>\n",
       "      <td>Black</td>\n",
       "      <td>nausea</td>\n",
       "    </tr>\n",
       "    <tr>\n",
       "      <th>4</th>\n",
       "      <td>Joice</td>\n",
       "      <td>36.0</td>\n",
       "      <td>F</td>\n",
       "      <td>Asian</td>\n",
       "      <td>sleep problems (insomnia)</td>\n",
       "    </tr>\n",
       "    <tr>\n",
       "      <th>...</th>\n",
       "      <td>...</td>\n",
       "      <td>...</td>\n",
       "      <td>...</td>\n",
       "      <td>...</td>\n",
       "      <td>...</td>\n",
       "    </tr>\n",
       "    <tr>\n",
       "      <th>399995</th>\n",
       "      <td>Margaret</td>\n",
       "      <td>37.0</td>\n",
       "      <td>M</td>\n",
       "      <td>Asian</td>\n",
       "      <td>nausea</td>\n",
       "    </tr>\n",
       "    <tr>\n",
       "      <th>399996</th>\n",
       "      <td>Lovern</td>\n",
       "      <td>43.0</td>\n",
       "      <td>M</td>\n",
       "      <td>Asian</td>\n",
       "      <td>sleep problems (insomnia)</td>\n",
       "    </tr>\n",
       "    <tr>\n",
       "      <th>399997</th>\n",
       "      <td>Natalie</td>\n",
       "      <td>55.0</td>\n",
       "      <td>F</td>\n",
       "      <td>Black</td>\n",
       "      <td>diarrhea</td>\n",
       "    </tr>\n",
       "    <tr>\n",
       "      <th>399998</th>\n",
       "      <td>Frances</td>\n",
       "      <td>54.0</td>\n",
       "      <td>M</td>\n",
       "      <td>Asian</td>\n",
       "      <td>diarrhea</td>\n",
       "    </tr>\n",
       "    <tr>\n",
       "      <th>399999</th>\n",
       "      <td>Lavene</td>\n",
       "      <td>42.0</td>\n",
       "      <td>F</td>\n",
       "      <td>Asian</td>\n",
       "      <td>sleep problems (insomnia)</td>\n",
       "    </tr>\n",
       "  </tbody>\n",
       "</table>\n",
       "<p>400000 rows × 5 columns</p>\n",
       "</div>"
      ],
      "text/plain": [
       "           Names   Age Gender   Race              Side effects \n",
       "0          Carry  31.0      F  Black  sleep problems (insomnia)\n",
       "1       Servando  55.0      M  Black                   diarrhea\n",
       "2          Julus  46.0      M  Asian                     nausea\n",
       "3         Hanako  49.0      F  Black                     nausea\n",
       "4          Joice  36.0      F  Asian  sleep problems (insomnia)\n",
       "...          ...   ...    ...    ...                        ...\n",
       "399995  Margaret  37.0      M  Asian                     nausea\n",
       "399996    Lovern  43.0      M  Asian  sleep problems (insomnia)\n",
       "399997   Natalie  55.0      F  Black                   diarrhea\n",
       "399998   Frances  54.0      M  Asian                   diarrhea\n",
       "399999    Lavene  42.0      F  Asian  sleep problems (insomnia)\n",
       "\n",
       "[400000 rows x 5 columns]"
      ]
     },
     "execution_count": 2,
     "metadata": {},
     "output_type": "execute_result"
    }
   ],
   "source": [
    "# Reading the dataset into Jupyter envt\n",
    "\n",
    "data=pd.read_csv('drug classification.csv')\n",
    "data"
   ]
  },
  {
   "cell_type": "code",
   "execution_count": 3,
   "metadata": {},
   "outputs": [
    {
     "data": {
      "text/plain": [
       "(400000, 5)"
      ]
     },
     "execution_count": 3,
     "metadata": {},
     "output_type": "execute_result"
    }
   ],
   "source": [
    "data.shape"
   ]
  },
  {
   "cell_type": "code",
   "execution_count": 4,
   "metadata": {},
   "outputs": [
    {
     "name": "stdout",
     "output_type": "stream",
     "text": [
      "<class 'pandas.core.frame.DataFrame'>\n",
      "RangeIndex: 400000 entries, 0 to 399999\n",
      "Data columns (total 5 columns):\n",
      " #   Column         Non-Null Count   Dtype  \n",
      "---  ------         --------------   -----  \n",
      " 0   Names          400000 non-null  object \n",
      " 1   Age            399578 non-null  float64\n",
      " 2   Gender         399595 non-null  object \n",
      " 3   Race           399692 non-null  object \n",
      " 4   Side effects   400000 non-null  object \n",
      "dtypes: float64(1), object(4)\n",
      "memory usage: 15.3+ MB\n"
     ]
    }
   ],
   "source": [
    "# checking the summary of the dataset\n",
    "\n",
    "data.info()"
   ]
  },
  {
   "cell_type": "code",
   "execution_count": 5,
   "metadata": {},
   "outputs": [
    {
     "data": {
      "text/html": [
       "<div>\n",
       "<style scoped>\n",
       "    .dataframe tbody tr th:only-of-type {\n",
       "        vertical-align: middle;\n",
       "    }\n",
       "\n",
       "    .dataframe tbody tr th {\n",
       "        vertical-align: top;\n",
       "    }\n",
       "\n",
       "    .dataframe thead th {\n",
       "        text-align: right;\n",
       "    }\n",
       "</style>\n",
       "<table border=\"1\" class=\"dataframe\">\n",
       "  <thead>\n",
       "    <tr style=\"text-align: right;\">\n",
       "      <th></th>\n",
       "      <th>Age</th>\n",
       "    </tr>\n",
       "  </thead>\n",
       "  <tbody>\n",
       "    <tr>\n",
       "      <th>count</th>\n",
       "      <td>399578.000000</td>\n",
       "    </tr>\n",
       "    <tr>\n",
       "      <th>mean</th>\n",
       "      <td>45.011577</td>\n",
       "    </tr>\n",
       "    <tr>\n",
       "      <th>std</th>\n",
       "      <td>9.008374</td>\n",
       "    </tr>\n",
       "    <tr>\n",
       "      <th>min</th>\n",
       "      <td>30.000000</td>\n",
       "    </tr>\n",
       "    <tr>\n",
       "      <th>25%</th>\n",
       "      <td>37.000000</td>\n",
       "    </tr>\n",
       "    <tr>\n",
       "      <th>50%</th>\n",
       "      <td>45.000000</td>\n",
       "    </tr>\n",
       "    <tr>\n",
       "      <th>75%</th>\n",
       "      <td>53.000000</td>\n",
       "    </tr>\n",
       "    <tr>\n",
       "      <th>max</th>\n",
       "      <td>198.000000</td>\n",
       "    </tr>\n",
       "  </tbody>\n",
       "</table>\n",
       "</div>"
      ],
      "text/plain": [
       "                 Age\n",
       "count  399578.000000\n",
       "mean       45.011577\n",
       "std         9.008374\n",
       "min        30.000000\n",
       "25%        37.000000\n",
       "50%        45.000000\n",
       "75%        53.000000\n",
       "max       198.000000"
      ]
     },
     "execution_count": 5,
     "metadata": {},
     "output_type": "execute_result"
    }
   ],
   "source": [
    "# checking the descriptive statistics\n",
    "\n",
    "data.describe()"
   ]
  },
  {
   "cell_type": "code",
   "execution_count": 6,
   "metadata": {},
   "outputs": [
    {
     "data": {
      "text/plain": [
       "Names            20184\n",
       "Age                 52\n",
       "Gender               2\n",
       "Race                 3\n",
       "Side effects         4\n",
       "dtype: int64"
      ]
     },
     "execution_count": 6,
     "metadata": {},
     "output_type": "execute_result"
    }
   ],
   "source": [
    "# Checking no. of Unique values in each features\n",
    "data.nunique()"
   ]
  },
  {
   "cell_type": "code",
   "execution_count": 7,
   "metadata": {},
   "outputs": [
    {
     "data": {
      "text/plain": [
       "Names              0\n",
       "Age              422\n",
       "Gender           405\n",
       "Race             308\n",
       "Side effects       0\n",
       "dtype: int64"
      ]
     },
     "execution_count": 7,
     "metadata": {},
     "output_type": "execute_result"
    }
   ],
   "source": [
    "# checking for missing values\n",
    "\n",
    "data.isna().sum()"
   ]
  },
  {
   "cell_type": "code",
   "execution_count": 8,
   "metadata": {},
   "outputs": [
    {
     "data": {
      "text/plain": [
       "False"
      ]
     },
     "execution_count": 8,
     "metadata": {},
     "output_type": "execute_result"
    }
   ],
   "source": [
    "# checking for zero value\n",
    "\n",
    "data.eq(0).any().any()"
   ]
  },
  {
   "cell_type": "code",
   "execution_count": 9,
   "metadata": {},
   "outputs": [
    {
     "data": {
      "text/plain": [
       "Names              0\n",
       "Age              422\n",
       "Gender             0\n",
       "Race               0\n",
       "Side effects       0\n",
       "dtype: int64"
      ]
     },
     "execution_count": 9,
     "metadata": {},
     "output_type": "execute_result"
    }
   ],
   "source": [
    "# filling the missing values with mode of the respective attributes\n",
    "\n",
    "for i in ['Gender', 'Race']:\n",
    "    data[i]=data[i].fillna(data[i].mode()[0])\n",
    "    \n",
    "data.isna().sum()"
   ]
  },
  {
   "cell_type": "code",
   "execution_count": 10,
   "metadata": {},
   "outputs": [],
   "source": [
    "# filling the missing values with mode of the respective attributes\n",
    "\n",
    "data['Age']=data['Age'].fillna(data['Age'].median())"
   ]
  },
  {
   "cell_type": "code",
   "execution_count": 11,
   "metadata": {},
   "outputs": [
    {
     "data": {
      "text/plain": [
       "Names            0\n",
       "Age              0\n",
       "Gender           0\n",
       "Race             0\n",
       "Side effects     0\n",
       "dtype: int64"
      ]
     },
     "execution_count": 11,
     "metadata": {},
     "output_type": "execute_result"
    }
   ],
   "source": [
    "data.isna().sum()"
   ]
  },
  {
   "cell_type": "code",
   "execution_count": 12,
   "metadata": {},
   "outputs": [
    {
     "data": {
      "text/plain": [
       "Text(0.5, 1.0, 'Box Plot of Age')"
      ]
     },
     "execution_count": 12,
     "metadata": {},
     "output_type": "execute_result"
    },
    {
     "data": {
      "image/png": "[encoded data removed]",
      "text/plain": [
       "<Figure size 432x288 with 1 Axes>"
      ]
     },
     "metadata": {
      "needs_background": "light"
     },
     "output_type": "display_data"
    }
   ],
   "source": [
    "# Ploting boxplot of feature 'Age' to find the outlier\n",
    "\n",
    "sns.boxplot(data=data['Age'])\n",
    "plt.title('Box Plot of Age')"
   ]
  },
  {
   "cell_type": "code",
   "execution_count": 13,
   "metadata": {},
   "outputs": [
    {
     "name": "stdout",
     "output_type": "stream",
     "text": [
      "37.0\n",
      "45.0\n",
      "53.0\n"
     ]
    }
   ],
   "source": [
    "# checking for outliers for 'Age'\n",
    "# finding the index values of outliers using inter quartile range\n",
    "\n",
    "Q1=np.percentile(data['Age'],25,interpolation='midpoint')\n",
    "Q2=np.percentile(data['Age'],50,interpolation='midpoint')\n",
    "Q3=np.percentile(data['Age'],75,interpolation='midpoint')\n",
    "print(Q1)\n",
    "print(Q2)\n",
    "print(Q3)"
   ]
  },
  {
   "cell_type": "code",
   "execution_count": 14,
   "metadata": {},
   "outputs": [
    {
     "name": "stdout",
     "output_type": "stream",
     "text": [
      "13.0\n",
      "77.0\n"
     ]
    }
   ],
   "source": [
    "IQR=Q3-Q1\n",
    "low_limit=Q1-1.5*IQR\n",
    "Up_limit=Q3+1.5*IQR\n",
    "print(low_limit)\n",
    "print(Up_limit)"
   ]
  },
  {
   "cell_type": "code",
   "execution_count": 15,
   "metadata": {},
   "outputs": [
    {
     "name": "stdout",
     "output_type": "stream",
     "text": [
      "[186.0, 194.0, 181.0, 197.0, 185.0, 169.0, 151.0, 184.0, 197.0, 185.0, 179.0, 182.0, 182.0, 161.0, 176.0, 181.0, 169.0, 157.0, 159.0, 163.0, 174.0, 193.0, 173.0, 154.0, 198.0, 170.0]\n"
     ]
    }
   ],
   "source": [
    "Outlier=[]\n",
    "for x in data['Age']:\n",
    "    if ((x>Up_limit)or(x<low_limit)):\n",
    "        Outlier.append(x)\n",
    "print(Outlier)"
   ]
  },
  {
   "cell_type": "code",
   "execution_count": 16,
   "metadata": {},
   "outputs": [],
   "source": [
    "Ind=data['Age']>Up_limit\n",
    "index=data.loc[Ind].index"
   ]
  },
  {
   "cell_type": "code",
   "execution_count": 17,
   "metadata": {},
   "outputs": [],
   "source": [
    "#Dropping the index rows of outliers\n",
    "\n",
    "data.drop(index,inplace=True)"
   ]
  },
  {
   "cell_type": "code",
   "execution_count": 18,
   "metadata": {},
   "outputs": [
    {
     "data": {
      "text/plain": [
       "Text(0.5, 1.0, 'Box Plot of Age')"
      ]
     },
     "execution_count": 18,
     "metadata": {},
     "output_type": "execute_result"
    },
    {
     "data": {
      "image/png": "[encoded data removed]",
      "text/plain": [
       "<Figure size 432x288 with 1 Axes>"
      ]
     },
     "metadata": {
      "needs_background": "light"
     },
     "output_type": "display_data"
    }
   ],
   "source": [
    "# Re-ploting boxplot of feature 'Age' to check the outliers removed or not\n",
    "sns.boxplot(data=data['Age'])\n",
    "plt.title('Box Plot of Age')"
   ]
  },
  {
   "cell_type": "code",
   "execution_count": 19,
   "metadata": {},
   "outputs": [
    {
     "data": {
      "text/html": [
       "<div>\n",
       "<style scoped>\n",
       "    .dataframe tbody tr th:only-of-type {\n",
       "        vertical-align: middle;\n",
       "    }\n",
       "\n",
       "    .dataframe tbody tr th {\n",
       "        vertical-align: top;\n",
       "    }\n",
       "\n",
       "    .dataframe thead th {\n",
       "        text-align: right;\n",
       "    }\n",
       "</style>\n",
       "<table border=\"1\" class=\"dataframe\">\n",
       "  <thead>\n",
       "    <tr style=\"text-align: right;\">\n",
       "      <th></th>\n",
       "      <th>Age</th>\n",
       "    </tr>\n",
       "  </thead>\n",
       "  <tbody>\n",
       "    <tr>\n",
       "      <th>count</th>\n",
       "      <td>399974.000000</td>\n",
       "    </tr>\n",
       "    <tr>\n",
       "      <th>mean</th>\n",
       "      <td>45.002990</td>\n",
       "    </tr>\n",
       "    <tr>\n",
       "      <th>std</th>\n",
       "      <td>8.940217</td>\n",
       "    </tr>\n",
       "    <tr>\n",
       "      <th>min</th>\n",
       "      <td>30.000000</td>\n",
       "    </tr>\n",
       "    <tr>\n",
       "      <th>25%</th>\n",
       "      <td>37.000000</td>\n",
       "    </tr>\n",
       "    <tr>\n",
       "      <th>50%</th>\n",
       "      <td>45.000000</td>\n",
       "    </tr>\n",
       "    <tr>\n",
       "      <th>75%</th>\n",
       "      <td>53.000000</td>\n",
       "    </tr>\n",
       "    <tr>\n",
       "      <th>max</th>\n",
       "      <td>60.000000</td>\n",
       "    </tr>\n",
       "  </tbody>\n",
       "</table>\n",
       "</div>"
      ],
      "text/plain": [
       "                 Age\n",
       "count  399974.000000\n",
       "mean       45.002990\n",
       "std         8.940217\n",
       "min        30.000000\n",
       "25%        37.000000\n",
       "50%        45.000000\n",
       "75%        53.000000\n",
       "max        60.000000"
      ]
     },
     "execution_count": 19,
     "metadata": {},
     "output_type": "execute_result"
    }
   ],
   "source": [
    "# checking the descriptive statistics\n",
    "\n",
    "data.describe()"
   ]
  },
  {
   "cell_type": "code",
   "execution_count": 20,
   "metadata": {},
   "outputs": [
    {
     "data": {
      "text/plain": [
       "Index(['Names', 'Age', 'Gender', 'Race', 'Side effects '], dtype='object')"
      ]
     },
     "execution_count": 20,
     "metadata": {},
     "output_type": "execute_result"
    }
   ],
   "source": [
    "data.columns"
   ]
  },
  {
   "cell_type": "markdown",
   "metadata": {},
   "source": [
    "# Feature Engineering"
   ]
  },
  {
   "cell_type": "code",
   "execution_count": 21,
   "metadata": {},
   "outputs": [],
   "source": [
    "# Grouping the age into different age groups\n",
    "\n",
    "def Age2group(x):\n",
    "    if x in range(30,41):\n",
    "        group = '30 to 40'\n",
    "    elif x in range(41,51):\n",
    "        group = '41 to 50'\n",
    "    elif x in range(51, 61):\n",
    "        group = '51 to 60'\n",
    "    return group"
   ]
  },
  {
   "cell_type": "code",
   "execution_count": 22,
   "metadata": {},
   "outputs": [
    {
     "data": {
      "text/html": [
       "<div>\n",
       "<style scoped>\n",
       "    .dataframe tbody tr th:only-of-type {\n",
       "        vertical-align: middle;\n",
       "    }\n",
       "\n",
       "    .dataframe tbody tr th {\n",
       "        vertical-align: top;\n",
       "    }\n",
       "\n",
       "    .dataframe thead th {\n",
       "        text-align: right;\n",
       "    }\n",
       "</style>\n",
       "<table border=\"1\" class=\"dataframe\">\n",
       "  <thead>\n",
       "    <tr style=\"text-align: right;\">\n",
       "      <th></th>\n",
       "      <th>Names</th>\n",
       "      <th>Age</th>\n",
       "      <th>Gender</th>\n",
       "      <th>Race</th>\n",
       "      <th>Side effects</th>\n",
       "      <th>Age group</th>\n",
       "    </tr>\n",
       "  </thead>\n",
       "  <tbody>\n",
       "    <tr>\n",
       "      <th>0</th>\n",
       "      <td>Carry</td>\n",
       "      <td>31.0</td>\n",
       "      <td>F</td>\n",
       "      <td>Black</td>\n",
       "      <td>sleep problems (insomnia)</td>\n",
       "      <td>30 to 40</td>\n",
       "    </tr>\n",
       "    <tr>\n",
       "      <th>1</th>\n",
       "      <td>Servando</td>\n",
       "      <td>55.0</td>\n",
       "      <td>M</td>\n",
       "      <td>Black</td>\n",
       "      <td>diarrhea</td>\n",
       "      <td>51 to 60</td>\n",
       "    </tr>\n",
       "    <tr>\n",
       "      <th>2</th>\n",
       "      <td>Julus</td>\n",
       "      <td>46.0</td>\n",
       "      <td>M</td>\n",
       "      <td>Asian</td>\n",
       "      <td>nausea</td>\n",
       "      <td>41 to 50</td>\n",
       "    </tr>\n",
       "    <tr>\n",
       "      <th>3</th>\n",
       "      <td>Hanako</td>\n",
       "      <td>49.0</td>\n",
       "      <td>F</td>\n",
       "      <td>Black</td>\n",
       "      <td>nausea</td>\n",
       "      <td>41 to 50</td>\n",
       "    </tr>\n",
       "    <tr>\n",
       "      <th>4</th>\n",
       "      <td>Joice</td>\n",
       "      <td>36.0</td>\n",
       "      <td>F</td>\n",
       "      <td>Asian</td>\n",
       "      <td>sleep problems (insomnia)</td>\n",
       "      <td>30 to 40</td>\n",
       "    </tr>\n",
       "    <tr>\n",
       "      <th>...</th>\n",
       "      <td>...</td>\n",
       "      <td>...</td>\n",
       "      <td>...</td>\n",
       "      <td>...</td>\n",
       "      <td>...</td>\n",
       "      <td>...</td>\n",
       "    </tr>\n",
       "    <tr>\n",
       "      <th>399995</th>\n",
       "      <td>Margaret</td>\n",
       "      <td>37.0</td>\n",
       "      <td>M</td>\n",
       "      <td>Asian</td>\n",
       "      <td>nausea</td>\n",
       "      <td>30 to 40</td>\n",
       "    </tr>\n",
       "    <tr>\n",
       "      <th>399996</th>\n",
       "      <td>Lovern</td>\n",
       "      <td>43.0</td>\n",
       "      <td>M</td>\n",
       "      <td>Asian</td>\n",
       "      <td>sleep problems (insomnia)</td>\n",
       "      <td>41 to 50</td>\n",
       "    </tr>\n",
       "    <tr>\n",
       "      <th>399997</th>\n",
       "      <td>Natalie</td>\n",
       "      <td>55.0</td>\n",
       "      <td>F</td>\n",
       "      <td>Black</td>\n",
       "      <td>diarrhea</td>\n",
       "      <td>51 to 60</td>\n",
       "    </tr>\n",
       "    <tr>\n",
       "      <th>399998</th>\n",
       "      <td>Frances</td>\n",
       "      <td>54.0</td>\n",
       "      <td>M</td>\n",
       "      <td>Asian</td>\n",
       "      <td>diarrhea</td>\n",
       "      <td>51 to 60</td>\n",
       "    </tr>\n",
       "    <tr>\n",
       "      <th>399999</th>\n",
       "      <td>Lavene</td>\n",
       "      <td>42.0</td>\n",
       "      <td>F</td>\n",
       "      <td>Asian</td>\n",
       "      <td>sleep problems (insomnia)</td>\n",
       "      <td>41 to 50</td>\n",
       "    </tr>\n",
       "  </tbody>\n",
       "</table>\n",
       "<p>399974 rows × 6 columns</p>\n",
       "</div>"
      ],
      "text/plain": [
       "           Names   Age Gender   Race              Side effects  Age group\n",
       "0          Carry  31.0      F  Black  sleep problems (insomnia)  30 to 40\n",
       "1       Servando  55.0      M  Black                   diarrhea  51 to 60\n",
       "2          Julus  46.0      M  Asian                     nausea  41 to 50\n",
       "3         Hanako  49.0      F  Black                     nausea  41 to 50\n",
       "4          Joice  36.0      F  Asian  sleep problems (insomnia)  30 to 40\n",
       "...          ...   ...    ...    ...                        ...       ...\n",
       "399995  Margaret  37.0      M  Asian                     nausea  30 to 40\n",
       "399996    Lovern  43.0      M  Asian  sleep problems (insomnia)  41 to 50\n",
       "399997   Natalie  55.0      F  Black                   diarrhea  51 to 60\n",
       "399998   Frances  54.0      M  Asian                   diarrhea  51 to 60\n",
       "399999    Lavene  42.0      F  Asian  sleep problems (insomnia)  41 to 50\n",
       "\n",
       "[399974 rows x 6 columns]"
      ]
     },
     "execution_count": 22,
     "metadata": {},
     "output_type": "execute_result"
    }
   ],
   "source": [
    "# adding the grouped age into the dataset\n",
    "\n",
    "data['Age group'] = data['Age'].apply(Age2group)\n",
    "data"
   ]
  },
  {
   "cell_type": "code",
   "execution_count": 23,
   "metadata": {},
   "outputs": [
    {
     "data": {
      "text/plain": [
       "Names            20184\n",
       "Age                 31\n",
       "Gender               2\n",
       "Race                 3\n",
       "Side effects         4\n",
       "Age group            3\n",
       "dtype: int64"
      ]
     },
     "execution_count": 23,
     "metadata": {},
     "output_type": "execute_result"
    }
   ],
   "source": [
    "data.nunique()"
   ]
  },
  {
   "cell_type": "code",
   "execution_count": 24,
   "metadata": {},
   "outputs": [],
   "source": [
    "#data.loc[data['Age group']=='Above 60']"
   ]
  },
  {
   "cell_type": "code",
   "execution_count": 25,
   "metadata": {},
   "outputs": [
    {
     "data": {
      "text/plain": [
       "Index(['Names', 'Age', 'Gender', 'Race', 'Side effects ', 'Age group'], dtype='object')"
      ]
     },
     "execution_count": 25,
     "metadata": {},
     "output_type": "execute_result"
    }
   ],
   "source": [
    "data.columns"
   ]
  },
  {
   "cell_type": "code",
   "execution_count": 29,
   "metadata": {
    "scrolled": false
   },
   "outputs": [
    {
     "data": {
      "image/png": "[encoded data removed]",
      "text/plain": [
       "<Figure size 1080x360 with 1 Axes>"
      ]
     },
     "metadata": {
      "needs_background": "light"
     },
     "output_type": "display_data"
    },
    {
     "data": {
      "image/png": "[encoded data removed]",
      "text/plain": [
       "<Figure size 1080x360 with 1 Axes>"
      ]
     },
     "metadata": {
      "needs_background": "light"
     },
     "output_type": "display_data"
    },
    {
     "data": {
      "image/png": "[encoded data removed]",
      "text/plain": [
       "<Figure size 1080x360 with 1 Axes>"
      ]
     },
     "metadata": {
      "needs_background": "light"
     },
     "output_type": "display_data"
    },
    {
     "data": {
      "image/png": "[encoded data removed]",
      "text/plain": [
       "<Figure size 1080x360 with 1 Axes>"
      ]
     },
     "metadata": {
      "needs_background": "light"
     },
     "output_type": "display_data"
    },
    {
     "data": {
      "image/png": "[encoded data removed]",
      "text/plain": [
       "<Figure size 1080x360 with 1 Axes>"
      ]
     },
     "metadata": {
      "needs_background": "light"
     },
     "output_type": "display_data"
    }
   ],
   "source": [
    "# visualizations\n",
    "\n",
    "# Column names into list\n",
    "\n",
    "col_name = ['Age', 'Gender', 'Race', 'Side effects ', 'Age group']\n",
    "\n",
    "# Count plot of each attributes\n",
    "for i in col_name:\n",
    "    plt.figure(figsize=(15,5))\n",
    "    plt.title(\"Count of each Category in column '{}'\".format(i))\n",
    "    sns.countplot(x=data[i])\n",
    "    plt.show()"
   ]
  },
  {
   "cell_type": "code",
   "execution_count": 29,
   "metadata": {},
   "outputs": [
    {
     "data": {
      "text/plain": [
       "<Figure size 720x360 with 0 Axes>"
      ]
     },
     "metadata": {},
     "output_type": "display_data"
    },
    {
     "data": {
      "image/png": "[encoded data removed]",
      "text/plain": [
       "<Figure size 432x288 with 1 Axes>"
      ]
     },
     "metadata": {
      "needs_background": "light"
     },
     "output_type": "display_data"
    }
   ],
   "source": [
    "# Stack bar plot between Type of Age group and Side effects\n",
    "\n",
    "E=pd.crosstab(data['Side effects '],data['Age group'])\n",
    "\n",
    "plt.figure(figsize=(10,5))\n",
    "E.plot.bar(stacked=True)\n",
    "plt.title( 'Barplot of Age group with Side effects')\n",
    "plt.legend(title='Side effects')\n",
    "plt.ylabel('Side effects ')\n",
    "plt.xticks(rotation=45)\n",
    "plt.show()"
   ]
  },
  {
   "cell_type": "code",
   "execution_count": 30,
   "metadata": {},
   "outputs": [
    {
     "data": {
      "text/html": [
       "<div>\n",
       "<style scoped>\n",
       "    .dataframe tbody tr th:only-of-type {\n",
       "        vertical-align: middle;\n",
       "    }\n",
       "\n",
       "    .dataframe tbody tr th {\n",
       "        vertical-align: top;\n",
       "    }\n",
       "\n",
       "    .dataframe thead th {\n",
       "        text-align: right;\n",
       "    }\n",
       "</style>\n",
       "<table border=\"1\" class=\"dataframe\">\n",
       "  <thead>\n",
       "    <tr style=\"text-align: right;\">\n",
       "      <th></th>\n",
       "      <th>Names</th>\n",
       "      <th>Age</th>\n",
       "      <th>Gender</th>\n",
       "      <th>Race</th>\n",
       "      <th>Side effects</th>\n",
       "      <th>Age group</th>\n",
       "    </tr>\n",
       "  </thead>\n",
       "  <tbody>\n",
       "    <tr>\n",
       "      <th>0</th>\n",
       "      <td>Carry</td>\n",
       "      <td>31.0</td>\n",
       "      <td>0</td>\n",
       "      <td>1</td>\n",
       "      <td>sleep problems (insomnia)</td>\n",
       "      <td>30 to 40</td>\n",
       "    </tr>\n",
       "    <tr>\n",
       "      <th>1</th>\n",
       "      <td>Servando</td>\n",
       "      <td>55.0</td>\n",
       "      <td>1</td>\n",
       "      <td>1</td>\n",
       "      <td>diarrhea</td>\n",
       "      <td>51 to 60</td>\n",
       "    </tr>\n",
       "    <tr>\n",
       "      <th>2</th>\n",
       "      <td>Julus</td>\n",
       "      <td>46.0</td>\n",
       "      <td>1</td>\n",
       "      <td>0</td>\n",
       "      <td>nausea</td>\n",
       "      <td>41 to 50</td>\n",
       "    </tr>\n",
       "    <tr>\n",
       "      <th>3</th>\n",
       "      <td>Hanako</td>\n",
       "      <td>49.0</td>\n",
       "      <td>0</td>\n",
       "      <td>1</td>\n",
       "      <td>nausea</td>\n",
       "      <td>41 to 50</td>\n",
       "    </tr>\n",
       "    <tr>\n",
       "      <th>4</th>\n",
       "      <td>Joice</td>\n",
       "      <td>36.0</td>\n",
       "      <td>0</td>\n",
       "      <td>0</td>\n",
       "      <td>sleep problems (insomnia)</td>\n",
       "      <td>30 to 40</td>\n",
       "    </tr>\n",
       "  </tbody>\n",
       "</table>\n",
       "</div>"
      ],
      "text/plain": [
       "      Names   Age  Gender  Race              Side effects  Age group\n",
       "0     Carry  31.0       0     1  sleep problems (insomnia)  30 to 40\n",
       "1  Servando  55.0       1     1                   diarrhea  51 to 60\n",
       "2     Julus  46.0       1     0                     nausea  41 to 50\n",
       "3    Hanako  49.0       0     1                     nausea  41 to 50\n",
       "4     Joice  36.0       0     0  sleep problems (insomnia)  30 to 40"
      ]
     },
     "execution_count": 30,
     "metadata": {},
     "output_type": "execute_result"
    }
   ],
   "source": [
    "# Label Encoding\n",
    "\n",
    "le=LabelEncoder()\n",
    "\n",
    "columns = ['Gender', 'Race']\n",
    "for col in columns:\n",
    "    data[col] = le.fit_transform(data[col])\n",
    "    \n",
    "data.head()"
   ]
  },
  {
   "cell_type": "code",
   "execution_count": 31,
   "metadata": {},
   "outputs": [
    {
     "data": {
      "text/html": [
       "<div>\n",
       "<style scoped>\n",
       "    .dataframe tbody tr th:only-of-type {\n",
       "        vertical-align: middle;\n",
       "    }\n",
       "\n",
       "    .dataframe tbody tr th {\n",
       "        vertical-align: top;\n",
       "    }\n",
       "\n",
       "    .dataframe thead th {\n",
       "        text-align: right;\n",
       "    }\n",
       "</style>\n",
       "<table border=\"1\" class=\"dataframe\">\n",
       "  <thead>\n",
       "    <tr style=\"text-align: right;\">\n",
       "      <th></th>\n",
       "      <th>Age</th>\n",
       "      <th>Gender</th>\n",
       "      <th>Race</th>\n",
       "      <th>Side effects</th>\n",
       "      <th>Age group</th>\n",
       "    </tr>\n",
       "  </thead>\n",
       "  <tbody>\n",
       "    <tr>\n",
       "      <th>0</th>\n",
       "      <td>31.0</td>\n",
       "      <td>0</td>\n",
       "      <td>1</td>\n",
       "      <td>sleep problems (insomnia)</td>\n",
       "      <td>30 to 40</td>\n",
       "    </tr>\n",
       "    <tr>\n",
       "      <th>1</th>\n",
       "      <td>55.0</td>\n",
       "      <td>1</td>\n",
       "      <td>1</td>\n",
       "      <td>diarrhea</td>\n",
       "      <td>51 to 60</td>\n",
       "    </tr>\n",
       "    <tr>\n",
       "      <th>2</th>\n",
       "      <td>46.0</td>\n",
       "      <td>1</td>\n",
       "      <td>0</td>\n",
       "      <td>nausea</td>\n",
       "      <td>41 to 50</td>\n",
       "    </tr>\n",
       "  </tbody>\n",
       "</table>\n",
       "</div>"
      ],
      "text/plain": [
       "    Age  Gender  Race              Side effects  Age group\n",
       "0  31.0       0     1  sleep problems (insomnia)  30 to 40\n",
       "1  55.0       1     1                   diarrhea  51 to 60\n",
       "2  46.0       1     0                     nausea  41 to 50"
      ]
     },
     "execution_count": 31,
     "metadata": {},
     "output_type": "execute_result"
    }
   ],
   "source": [
    "# Since name is a unique categorical value which doesnot really contribute to the model, we can drop it.\n",
    "\n",
    "data=data.drop(['Names'],axis=1)\n",
    "data.head(3)"
   ]
  },
  {
   "cell_type": "code",
   "execution_count": 34,
   "metadata": {},
   "outputs": [],
   "source": [
    "# Splitting the dataset into Target(Side Effects(y)) and Features(x)\n",
    "\n",
    "x=data.drop(['Side effects '],axis=1)\n",
    "y=data['Side effects ']"
   ]
  },
  {
   "cell_type": "code",
   "execution_count": 35,
   "metadata": {},
   "outputs": [],
   "source": [
    "# One Hot encoding Features (Age group)\n",
    "\n",
    "x=pd.get_dummies(x)"
   ]
  },
  {
   "cell_type": "code",
   "execution_count": 36,
   "metadata": {},
   "outputs": [
    {
     "data": {
      "text/html": [
       "<div>\n",
       "<style scoped>\n",
       "    .dataframe tbody tr th:only-of-type {\n",
       "        vertical-align: middle;\n",
       "    }\n",
       "\n",
       "    .dataframe tbody tr th {\n",
       "        vertical-align: top;\n",
       "    }\n",
       "\n",
       "    .dataframe thead th {\n",
       "        text-align: right;\n",
       "    }\n",
       "</style>\n",
       "<table border=\"1\" class=\"dataframe\">\n",
       "  <thead>\n",
       "    <tr style=\"text-align: right;\">\n",
       "      <th></th>\n",
       "      <th>Age</th>\n",
       "      <th>Gender</th>\n",
       "      <th>Race</th>\n",
       "      <th>Age group_30 to 40</th>\n",
       "      <th>Age group_41 to 50</th>\n",
       "      <th>Age group_51 to 60</th>\n",
       "    </tr>\n",
       "  </thead>\n",
       "  <tbody>\n",
       "    <tr>\n",
       "      <th>0</th>\n",
       "      <td>31.0</td>\n",
       "      <td>0</td>\n",
       "      <td>1</td>\n",
       "      <td>1</td>\n",
       "      <td>0</td>\n",
       "      <td>0</td>\n",
       "    </tr>\n",
       "    <tr>\n",
       "      <th>1</th>\n",
       "      <td>55.0</td>\n",
       "      <td>1</td>\n",
       "      <td>1</td>\n",
       "      <td>0</td>\n",
       "      <td>0</td>\n",
       "      <td>1</td>\n",
       "    </tr>\n",
       "    <tr>\n",
       "      <th>2</th>\n",
       "      <td>46.0</td>\n",
       "      <td>1</td>\n",
       "      <td>0</td>\n",
       "      <td>0</td>\n",
       "      <td>1</td>\n",
       "      <td>0</td>\n",
       "    </tr>\n",
       "  </tbody>\n",
       "</table>\n",
       "</div>"
      ],
      "text/plain": [
       "    Age  Gender  Race  Age group_30 to 40  Age group_41 to 50  \\\n",
       "0  31.0       0     1                   1                   0   \n",
       "1  55.0       1     1                   0                   0   \n",
       "2  46.0       1     0                   0                   1   \n",
       "\n",
       "   Age group_51 to 60  \n",
       "0                   0  \n",
       "1                   1  \n",
       "2                   0  "
      ]
     },
     "execution_count": 36,
     "metadata": {},
     "output_type": "execute_result"
    }
   ],
   "source": [
    "x.head(3)"
   ]
  },
  {
   "cell_type": "code",
   "execution_count": 37,
   "metadata": {},
   "outputs": [],
   "source": [
    "# Spliting the Target and Features using train_test_split method\n",
    "\n",
    "x_train,x_test,y_train,y_test=train_test_split(x,y,random_state=42,test_size=.25)"
   ]
  },
  {
   "cell_type": "code",
   "execution_count": 38,
   "metadata": {},
   "outputs": [
    {
     "data": {
      "text/plain": [
       "(299980, 6)"
      ]
     },
     "execution_count": 38,
     "metadata": {},
     "output_type": "execute_result"
    }
   ],
   "source": [
    "# checking the shape of x_train\n",
    "\n",
    "x_train.shape"
   ]
  },
  {
   "cell_type": "code",
   "execution_count": 39,
   "metadata": {},
   "outputs": [
    {
     "data": {
      "text/plain": [
       "(99994, 6)"
      ]
     },
     "execution_count": 39,
     "metadata": {},
     "output_type": "execute_result"
    }
   ],
   "source": [
    "# checking the shape of x_test\n",
    "\n",
    "x_test.shape"
   ]
  },
  {
   "cell_type": "markdown",
   "metadata": {},
   "source": [
    "# Logistic Regression"
   ]
  },
  {
   "cell_type": "code",
   "execution_count": 40,
   "metadata": {},
   "outputs": [
    {
     "name": "stderr",
     "output_type": "stream",
     "text": [
      "C:\\Users\\DELL\\anaconda3\\lib\\site-packages\\sklearn\\linear_model\\_logistic.py:762: ConvergenceWarning: lbfgs failed to converge (status=1):\n",
      "STOP: TOTAL NO. of ITERATIONS REACHED LIMIT.\n",
      "\n",
      "Increase the number of iterations (max_iter) or scale the data as shown in:\n",
      "    https://scikit-learn.org/stable/modules/preprocessing.html\n",
      "Please also refer to the documentation for alternative solver options:\n",
      "    https://scikit-learn.org/stable/modules/linear_model.html#logistic-regression\n",
      "  n_iter_i = _check_optimize_result(\n"
     ]
    }
   ],
   "source": [
    "log_model=LogisticRegression()\n",
    "log_model.fit(x_train,y_train)\n",
    "\n",
    "log_pred=log_model.predict(x_test)\n"
   ]
  },
  {
   "cell_type": "code",
   "execution_count": 41,
   "metadata": {},
   "outputs": [],
   "source": [
    "log_acc=accuracy_score(y_test,log_pred)\n",
    "log_pre=precision_score(y_test,log_pred,average='weighted')\n",
    "log_f1=f1_score(y_test,log_pred,average='weighted')\n",
    "log_recall=recall_score(y_test,log_pred,average='weighted')\n",
    "log_matrix=confusion_matrix(y_test,log_pred)"
   ]
  },
  {
   "cell_type": "code",
   "execution_count": 42,
   "metadata": {},
   "outputs": [
    {
     "name": "stdout",
     "output_type": "stream",
     "text": [
      "Accuracy score is 0.5705842350541033\n",
      "Precision score is 0.5764278463068774\n",
      "F1 score is 0.5400326105714748\n",
      "Recall score is 0.5705842350541033\n",
      "\n",
      " Confusion Matrix\n",
      " [[17809   625  5693    25]\n",
      " [  278 20891  8203   859]\n",
      " [ 6369  4014 16242   612]\n",
      " [ 7797  6255  2209  2113]]\n"
     ]
    }
   ],
   "source": [
    "print('Accuracy score is',log_acc)\n",
    "print('Precision score is',log_pre)\n",
    "print('F1 score is',log_f1)\n",
    "print('Recall score is',log_recall)\n",
    "print('\\n Confusion Matrix\\n',log_matrix)"
   ]
  },
  {
   "cell_type": "markdown",
   "metadata": {},
   "source": [
    "# Decision Tree Classifier"
   ]
  },
  {
   "cell_type": "code",
   "execution_count": 43,
   "metadata": {},
   "outputs": [],
   "source": [
    "# Model building using Decision Tree Classifier\n",
    "\n",
    "dtree=DecisionTreeClassifier()\n",
    "dtree_model=dtree.fit(x_train,y_train)\n",
    "dtree_pred=dtree.predict(x_test)"
   ]
  },
  {
   "cell_type": "code",
   "execution_count": 44,
   "metadata": {},
   "outputs": [],
   "source": [
    "dtree_acc=accuracy_score(y_test,dtree_pred)\n",
    "dtree_pre=precision_score(y_test,dtree_pred,average='weighted')\n",
    "dtree_f1=f1_score(y_test,dtree_pred,average='weighted')\n",
    "dtree_recall=recall_score(y_test,dtree_pred,average='weighted')\n",
    "dtree_matrix=confusion_matrix(y_test,dtree_pred)"
   ]
  },
  {
   "cell_type": "code",
   "execution_count": 45,
   "metadata": {},
   "outputs": [
    {
     "name": "stdout",
     "output_type": "stream",
     "text": [
      "Accuracy score is 0.8033982038922335\n",
      "Precision score is 0.8026448605102968\n",
      "F1 score is 0.8022089065164891\n",
      "Recall score is 0.8033982038922335\n",
      "\n",
      " Confusion Matrix\n",
      " [[21461  1153   824   714]\n",
      " [   59 24265  3580  2327]\n",
      " [ 1822  1899 22370  1146]\n",
      " [ 1916  1915  2304 12239]]\n"
     ]
    }
   ],
   "source": [
    "print('Accuracy score is',dtree_acc)\n",
    "print('Precision score is',dtree_pre)\n",
    "print('F1 score is',dtree_f1)\n",
    "print('Recall score is',dtree_recall)\n",
    "print('\\n Confusion Matrix\\n',dtree_matrix)"
   ]
  },
  {
   "cell_type": "markdown",
   "metadata": {},
   "source": [
    "# Random Forest Classifier"
   ]
  },
  {
   "cell_type": "code",
   "execution_count": 46,
   "metadata": {},
   "outputs": [],
   "source": [
    "# Random Forest Classifier\n",
    "\n",
    "clf=RandomForestClassifier(n_estimators=100)\n",
    "clf.fit(x_train,y_train)\n",
    "rfc_pred=clf.predict(x_test)"
   ]
  },
  {
   "cell_type": "code",
   "execution_count": 47,
   "metadata": {},
   "outputs": [],
   "source": [
    "rfc_acc=accuracy_score(y_test,rfc_pred)\n",
    "rfc_pre=precision_score(y_test,rfc_pred,average='weighted')\n",
    "rfc_f1=f1_score(y_test,rfc_pred,average='weighted')\n",
    "rfc_recall=recall_score(y_test,rfc_pred,average='weighted')\n",
    "rfc_matrix=confusion_matrix(y_test,rfc_pred)"
   ]
  },
  {
   "cell_type": "code",
   "execution_count": 48,
   "metadata": {},
   "outputs": [
    {
     "name": "stdout",
     "output_type": "stream",
     "text": [
      "Accuracy score is 0.8033982038922335\n",
      "Precision score is 0.8026448605102968\n",
      "F1 score is 0.8022089065164891\n",
      "Recall score is 0.8033982038922335\n",
      "\n",
      " Confusion Matrix\n",
      " [[21461  1153   824   714]\n",
      " [   59 24265  3580  2327]\n",
      " [ 1822  1899 22370  1146]\n",
      " [ 1916  1915  2304 12239]]\n"
     ]
    }
   ],
   "source": [
    "print('Accuracy score is',rfc_acc)\n",
    "print('Precision score is',rfc_pre)\n",
    "print('F1 score is',rfc_f1)\n",
    "print('Recall score is',rfc_recall)\n",
    "print('\\n Confusion Matrix\\n',rfc_matrix)"
   ]
  },
  {
   "cell_type": "markdown",
   "metadata": {},
   "source": [
    "# KNN Classifier"
   ]
  },
  {
   "cell_type": "code",
   "execution_count": 49,
   "metadata": {},
   "outputs": [],
   "source": [
    "empty_list=[]\n",
    "neighbors= np.arange(3,15)\n",
    "for k in neighbors:\n",
    "    classifier=KNeighborsClassifier(n_neighbors=k,metric='minkowski')\n",
    "    classifier.fit(x_train,y_train)\n",
    "    \n",
    "    pred=classifier.predict(x_test)\n",
    "    acc=accuracy_score(y_test,pred)\n",
    "    empty_list.append(acc)    "
   ]
  },
  {
   "cell_type": "code",
   "execution_count": 50,
   "metadata": {},
   "outputs": [
    {
     "data": {
      "text/plain": [
       "Text(0, 0.5, 'Accuracy')"
      ]
     },
     "execution_count": 50,
     "metadata": {},
     "output_type": "execute_result"
    },
    {
     "data": {
      "image/png": "[encoded data removed]",
      "text/plain": [
       "<Figure size 432x288 with 1 Axes>"
      ]
     },
     "metadata": {
      "needs_background": "light"
     },
     "output_type": "display_data"
    }
   ],
   "source": [
    "plt.plot(neighbors,empty_list,'*-')\n",
    "plt.xlabel('k-values')\n",
    "plt.ylabel('Accuracy')"
   ]
  },
  {
   "cell_type": "code",
   "execution_count": 51,
   "metadata": {},
   "outputs": [],
   "source": [
    "# Highest accuracy is for the k value 7\n",
    "# Remodelling with highest accuracy k value (7)\n",
    "\n",
    "classifier=KNeighborsClassifier(n_neighbors=(7),metric='minkowski')\n",
    "classifier.fit(x_train,y_train)\n",
    "knn_pred=classifier.predict(x_test)"
   ]
  },
  {
   "cell_type": "code",
   "execution_count": 52,
   "metadata": {},
   "outputs": [],
   "source": [
    "knn_acc=accuracy_score(y_test,knn_pred)\n",
    "knn_pre=precision_score(y_test,knn_pred,average='weighted')\n",
    "knn_f1=f1_score(y_test,knn_pred,average='weighted')\n",
    "knn_recall=recall_score(y_test,knn_pred,average='weighted')\n",
    "knn_matrix=confusion_matrix(y_test,knn_pred)"
   ]
  },
  {
   "cell_type": "code",
   "execution_count": 53,
   "metadata": {},
   "outputs": [
    {
     "name": "stdout",
     "output_type": "stream",
     "text": [
      "Accuracy score is 0.7946276776606597\n",
      "Precision score is 0.7933154152771942\n",
      "F1 score is 0.7911166128838244\n",
      "Recall score is 0.7946276776606597\n",
      "\n",
      " Confusion Matrix\n",
      " [[21507  1045   924   676]\n",
      " [  310 25369  2971  1581]\n",
      " [ 1642  2907 21781   907]\n",
      " [ 2406  2910  2257 10801]]\n"
     ]
    }
   ],
   "source": [
    "print('Accuracy score is',knn_acc)\n",
    "print('Precision score is',knn_pre)\n",
    "print('F1 score is',knn_f1)\n",
    "print('Recall score is',knn_recall)\n",
    "print('\\n Confusion Matrix\\n',knn_matrix)"
   ]
  },
  {
   "cell_type": "code",
   "execution_count": 54,
   "metadata": {},
   "outputs": [],
   "source": [
    "empty_list=[]\n",
    "neighbors= np.arange(3,15)\n",
    "\n",
    "for k in neighbors:\n",
    "    \n",
    "    classifier=KNeighborsClassifier(n_neighbors=7,metric='minkowski')\n",
    "    classifier.fit(x_train,y_train)\n",
    "    \n",
    "    pred=classifier.predict(x_test)\n",
    "    acc=accuracy_score(y_test,pred)\n",
    "    empty_list.append(acc)"
   ]
  },
  {
   "cell_type": "code",
   "execution_count": 55,
   "metadata": {},
   "outputs": [
    {
     "data": {
      "text/plain": [
       "Text(0, 0.5, 'Accuracy')"
      ]
     },
     "execution_count": 55,
     "metadata": {},
     "output_type": "execute_result"
    },
    {
     "data": {
      "image/png": "[encoded data removed]",
      "text/plain": [
       "<Figure size 432x288 with 1 Axes>"
      ]
     },
     "metadata": {
      "needs_background": "light"
     },
     "output_type": "display_data"
    }
   ],
   "source": [
    "plt.plot(neighbors,empty_list,'*-')\n",
    "plt.xlabel('k-values')\n",
    "plt.ylabel('Accuracy')"
   ]
  },
  {
   "cell_type": "markdown",
   "metadata": {},
   "source": [
    "# Extreme Gradiant Boost"
   ]
  },
  {
   "cell_type": "code",
   "execution_count": 56,
   "metadata": {},
   "outputs": [],
   "source": [
    "xgb=XGBClassifier()\n",
    "xgb.fit(x_train,y_train)\n",
    "xgb_pred=xgb.predict(x_test)"
   ]
  },
  {
   "cell_type": "code",
   "execution_count": 57,
   "metadata": {},
   "outputs": [],
   "source": [
    "xgb_acc=accuracy_score(y_test,xgb_pred)\n",
    "xgb_pre=precision_score(y_test,xgb_pred,average='weighted')\n",
    "xgb_f1=f1_score(y_test,xgb_pred,average='weighted')\n",
    "xgb_recall=recall_score(y_test,xgb_pred,average='weighted')\n",
    "xgb_matrix=confusion_matrix(y_test,xgb_pred)"
   ]
  },
  {
   "cell_type": "code",
   "execution_count": 58,
   "metadata": {},
   "outputs": [
    {
     "name": "stdout",
     "output_type": "stream",
     "text": [
      "Accuracy score is 0.8033982038922335\n",
      "Precision score is 0.8026448605102968\n",
      "F1 score is 0.8022089065164891\n",
      "Recall score is 0.8033982038922335\n",
      "\n",
      " Confusion Matrix\n",
      " [[21461  1153   824   714]\n",
      " [   59 24265  3580  2327]\n",
      " [ 1822  1899 22370  1146]\n",
      " [ 1916  1915  2304 12239]]\n"
     ]
    }
   ],
   "source": [
    "print('Accuracy score is',xgb_acc)\n",
    "print('Precision score is',xgb_pre)\n",
    "print('F1 score is',xgb_f1)\n",
    "print('Recall score is',xgb_recall)\n",
    "print('\\n Confusion Matrix\\n',xgb_matrix)"
   ]
  },
  {
   "cell_type": "markdown",
   "metadata": {},
   "source": [
    "# Gradient Boosting Classifier"
   ]
  },
  {
   "cell_type": "code",
   "execution_count": 59,
   "metadata": {},
   "outputs": [],
   "source": [
    "gb=GradientBoostingClassifier()\n",
    "gb.fit(x_train,y_train)\n",
    "gb_pred=gb.predict(x_test)"
   ]
  },
  {
   "cell_type": "code",
   "execution_count": 60,
   "metadata": {},
   "outputs": [],
   "source": [
    "gb_acc=accuracy_score(y_test,gb_pred)\n",
    "gb_pre=precision_score(y_test,gb_pred,average='weighted')\n",
    "gb_f1=f1_score(y_test,gb_pred,average='weighted')\n",
    "gb_recall=recall_score(y_test,gb_pred,average='weighted')\n",
    "gb_matrix=confusion_matrix(y_test,gb_pred)"
   ]
  },
  {
   "cell_type": "code",
   "execution_count": 61,
   "metadata": {
    "scrolled": false
   },
   "outputs": [
    {
     "name": "stdout",
     "output_type": "stream",
     "text": [
      "Accuracy score is 0.8034182050923055\n",
      "Precision score is 0.8019073566836235\n",
      "F1 score is 0.8021639798822431\n",
      "Recall score is 0.8034182050923055\n",
      "\n",
      " Confusion Matrix\n",
      " [[21461  1055   824   812]\n",
      " [   59 25471  2405  2296]\n",
      " [ 1822  3078 20896  1441]\n",
      " [ 1916  1971  1978 12509]]\n"
     ]
    }
   ],
   "source": [
    "print('Accuracy score is',gb_acc)\n",
    "print('Precision score is',gb_pre)\n",
    "print('F1 score is',gb_f1)\n",
    "print('Recall score is',gb_recall)\n",
    "print('\\n Confusion Matrix\\n',gb_matrix)"
   ]
  },
  {
   "cell_type": "markdown",
   "metadata": {},
   "source": [
    "# Scaling the dataset"
   ]
  },
  {
   "cell_type": "markdown",
   "metadata": {},
   "source": [
    "# Normalize"
   ]
  },
  {
   "cell_type": "code",
   "execution_count": 71,
   "metadata": {},
   "outputs": [
    {
     "data": {
      "text/html": [
       "<div>\n",
       "<style scoped>\n",
       "    .dataframe tbody tr th:only-of-type {\n",
       "        vertical-align: middle;\n",
       "    }\n",
       "\n",
       "    .dataframe tbody tr th {\n",
       "        vertical-align: top;\n",
       "    }\n",
       "\n",
       "    .dataframe thead th {\n",
       "        text-align: right;\n",
       "    }\n",
       "</style>\n",
       "<table border=\"1\" class=\"dataframe\">\n",
       "  <thead>\n",
       "    <tr style=\"text-align: right;\">\n",
       "      <th></th>\n",
       "      <th>0</th>\n",
       "      <th>1</th>\n",
       "      <th>2</th>\n",
       "      <th>3</th>\n",
       "      <th>4</th>\n",
       "      <th>5</th>\n",
       "    </tr>\n",
       "  </thead>\n",
       "  <tbody>\n",
       "    <tr>\n",
       "      <th>count</th>\n",
       "      <td>399974.000000</td>\n",
       "      <td>399974.000000</td>\n",
       "      <td>399974.000000</td>\n",
       "      <td>399974.000000</td>\n",
       "      <td>399974.000000</td>\n",
       "      <td>399974.000000</td>\n",
       "    </tr>\n",
       "    <tr>\n",
       "      <th>mean</th>\n",
       "      <td>0.999131</td>\n",
       "      <td>0.010251</td>\n",
       "      <td>0.023132</td>\n",
       "      <td>0.010212</td>\n",
       "      <td>0.007115</td>\n",
       "      <td>0.005817</td>\n",
       "    </tr>\n",
       "    <tr>\n",
       "      <th>std</th>\n",
       "      <td>0.000649</td>\n",
       "      <td>0.011929</td>\n",
       "      <td>0.019863</td>\n",
       "      <td>0.013852</td>\n",
       "      <td>0.010336</td>\n",
       "      <td>0.008454</td>\n",
       "    </tr>\n",
       "    <tr>\n",
       "      <th>min</th>\n",
       "      <td>0.996683</td>\n",
       "      <td>0.000000</td>\n",
       "      <td>0.000000</td>\n",
       "      <td>0.000000</td>\n",
       "      <td>0.000000</td>\n",
       "      <td>0.000000</td>\n",
       "    </tr>\n",
       "    <tr>\n",
       "      <th>25%</th>\n",
       "      <td>0.998891</td>\n",
       "      <td>0.000000</td>\n",
       "      <td>0.000000</td>\n",
       "      <td>0.000000</td>\n",
       "      <td>0.000000</td>\n",
       "      <td>0.000000</td>\n",
       "    </tr>\n",
       "    <tr>\n",
       "      <th>50%</th>\n",
       "      <td>0.999308</td>\n",
       "      <td>0.000000</td>\n",
       "      <td>0.022211</td>\n",
       "      <td>0.000000</td>\n",
       "      <td>0.000000</td>\n",
       "      <td>0.000000</td>\n",
       "    </tr>\n",
       "    <tr>\n",
       "      <th>75%</th>\n",
       "      <td>0.999616</td>\n",
       "      <td>0.021262</td>\n",
       "      <td>0.037702</td>\n",
       "      <td>0.026978</td>\n",
       "      <td>0.020811</td>\n",
       "      <td>0.017229</td>\n",
       "    </tr>\n",
       "    <tr>\n",
       "      <th>max</th>\n",
       "      <td>0.999861</td>\n",
       "      <td>0.033296</td>\n",
       "      <td>0.066482</td>\n",
       "      <td>0.033315</td>\n",
       "      <td>0.024383</td>\n",
       "      <td>0.019604</td>\n",
       "    </tr>\n",
       "  </tbody>\n",
       "</table>\n",
       "</div>"
      ],
      "text/plain": [
       "                   0              1              2              3  \\\n",
       "count  399974.000000  399974.000000  399974.000000  399974.000000   \n",
       "mean        0.999131       0.010251       0.023132       0.010212   \n",
       "std         0.000649       0.011929       0.019863       0.013852   \n",
       "min         0.996683       0.000000       0.000000       0.000000   \n",
       "25%         0.998891       0.000000       0.000000       0.000000   \n",
       "50%         0.999308       0.000000       0.022211       0.000000   \n",
       "75%         0.999616       0.021262       0.037702       0.026978   \n",
       "max         0.999861       0.033296       0.066482       0.033315   \n",
       "\n",
       "                   4              5  \n",
       "count  399974.000000  399974.000000  \n",
       "mean        0.007115       0.005817  \n",
       "std         0.010336       0.008454  \n",
       "min         0.000000       0.000000  \n",
       "25%         0.000000       0.000000  \n",
       "50%         0.000000       0.000000  \n",
       "75%         0.020811       0.017229  \n",
       "max         0.024383       0.019604  "
      ]
     },
     "execution_count": 71,
     "metadata": {},
     "output_type": "execute_result"
    }
   ],
   "source": [
    "\n",
    "x=normalize(x)\n",
    "x=pd.DataFrame(x)\n",
    "x.describe()"
   ]
  },
  {
   "cell_type": "code",
   "execution_count": 72,
   "metadata": {},
   "outputs": [],
   "source": [
    "# Re-checking the accuracy scores for each models after normalization"
   ]
  },
  {
   "cell_type": "code",
   "execution_count": 73,
   "metadata": {},
   "outputs": [
    {
     "name": "stderr",
     "output_type": "stream",
     "text": [
      "C:\\Users\\DELL\\anaconda3\\lib\\site-packages\\sklearn\\linear_model\\_logistic.py:762: ConvergenceWarning: lbfgs failed to converge (status=1):\n",
      "STOP: TOTAL NO. of ITERATIONS REACHED LIMIT.\n",
      "\n",
      "Increase the number of iterations (max_iter) or scale the data as shown in:\n",
      "    https://scikit-learn.org/stable/modules/preprocessing.html\n",
      "Please also refer to the documentation for alternative solver options:\n",
      "    https://scikit-learn.org/stable/modules/linear_model.html#logistic-regression\n",
      "  n_iter_i = _check_optimize_result(\n"
     ]
    }
   ],
   "source": [
    "# Logisitc Regression\n",
    "\n",
    "log_model=LogisticRegression()\n",
    "log_model.fit(x_train,y_train)\n",
    "\n",
    "log_pred1=log_model.predict(x_test)"
   ]
  },
  {
   "cell_type": "code",
   "execution_count": 74,
   "metadata": {},
   "outputs": [],
   "source": [
    "log_acc1=accuracy_score(y_test,log_pred1)\n",
    "log_pre1=precision_score(y_test,log_pred1,average='weighted')\n",
    "log_f11=f1_score(y_test,log_pred1,average='weighted')\n",
    "log_recall1=recall_score(y_test,log_pred1,average='weighted')\n",
    "log_matrix1=confusion_matrix(y_test,log_pred1)"
   ]
  },
  {
   "cell_type": "code",
   "execution_count": 75,
   "metadata": {},
   "outputs": [
    {
     "name": "stdout",
     "output_type": "stream",
     "text": [
      "Accuracy score is 0.5705842350541033\n",
      "Precision score is 0.5764278463068774\n",
      "F1 score is 0.5400326105714748\n",
      "Recall score is 0.5705842350541033\n",
      "\n",
      " Confusion Matrix\n",
      " [[17809   625  5693    25]\n",
      " [  278 20891  8203   859]\n",
      " [ 6369  4014 16242   612]\n",
      " [ 7797  6255  2209  2113]]\n"
     ]
    }
   ],
   "source": [
    "print('Accuracy score is',log_acc1)\n",
    "print('Precision score is',log_pre1)\n",
    "print('F1 score is',log_f11)\n",
    "print('Recall score is',log_recall1)\n",
    "print('\\n Confusion Matrix\\n',log_matrix1)"
   ]
  },
  {
   "cell_type": "code",
   "execution_count": 76,
   "metadata": {},
   "outputs": [],
   "source": [
    "# Decision Tree\n",
    "\n",
    "dtree=DecisionTreeClassifier()\n",
    "dtree_model=dtree.fit(x_train,y_train)\n",
    "dtree_pred1=dtree.predict(x_test)"
   ]
  },
  {
   "cell_type": "code",
   "execution_count": 77,
   "metadata": {},
   "outputs": [],
   "source": [
    "dtree_acc1=accuracy_score(y_test,dtree_pred1)\n",
    "dtree_pre1=precision_score(y_test,dtree_pred1,average='weighted')\n",
    "dtree_f11=f1_score(y_test,dtree_pred1,average='weighted')\n",
    "dtree_recall1=recall_score(y_test,dtree_pred1,average='weighted')\n",
    "dtree_matrix1=confusion_matrix(y_test,dtree_pred1)"
   ]
  },
  {
   "cell_type": "code",
   "execution_count": 78,
   "metadata": {},
   "outputs": [
    {
     "name": "stdout",
     "output_type": "stream",
     "text": [
      "Accuracy score is 0.8033982038922335\n",
      "Precision score is 0.8026448605102968\n",
      "F1 score is 0.8022089065164891\n",
      "Recall score is 0.8033982038922335\n",
      "\n",
      " Confusion Matrix\n",
      " [[21461  1153   824   714]\n",
      " [   59 24265  3580  2327]\n",
      " [ 1822  1899 22370  1146]\n",
      " [ 1916  1915  2304 12239]]\n"
     ]
    }
   ],
   "source": [
    "print('Accuracy score is',dtree_acc1)\n",
    "print('Precision score is',dtree_pre1)\n",
    "print('F1 score is',dtree_f11)\n",
    "print('Recall score is',dtree_recall1)\n",
    "print('\\n Confusion Matrix\\n',dtree_matrix1)"
   ]
  },
  {
   "cell_type": "code",
   "execution_count": 79,
   "metadata": {},
   "outputs": [],
   "source": [
    "# Random Forest Classifier\n",
    "\n",
    "clf=RandomForestClassifier(n_estimators=200)\n",
    "clf.fit(x_train,y_train)\n",
    "rfc_pred1=clf.predict(x_test)"
   ]
  },
  {
   "cell_type": "code",
   "execution_count": 80,
   "metadata": {},
   "outputs": [],
   "source": [
    "rfc_acc1=accuracy_score(y_test,rfc_pred1)\n",
    "rfc_pre1=precision_score(y_test,rfc_pred1,average='weighted')\n",
    "rfc_f11=f1_score(y_test,rfc_pred1,average='weighted')\n",
    "rfc_recall1=recall_score(y_test,rfc_pred1,average='weighted')\n",
    "rfc_matrix1=confusion_matrix(y_test,rfc_pred1)"
   ]
  },
  {
   "cell_type": "code",
   "execution_count": 81,
   "metadata": {},
   "outputs": [
    {
     "name": "stdout",
     "output_type": "stream",
     "text": [
      "Accuracy score is 0.8033982038922335\n",
      "Precision score is 0.8026448605102968\n",
      "F1 score is 0.8022089065164891\n",
      "Recall score is 0.8033982038922335\n",
      "\n",
      " Confusion Matrix\n",
      " [[21461  1153   824   714]\n",
      " [   59 24265  3580  2327]\n",
      " [ 1822  1899 22370  1146]\n",
      " [ 1916  1915  2304 12239]]\n"
     ]
    }
   ],
   "source": [
    "print('Accuracy score is',rfc_acc1)\n",
    "print('Precision score is',rfc_pre1)\n",
    "print('F1 score is',rfc_f11)\n",
    "print('Recall score is',rfc_recall1)\n",
    "print('\\n Confusion Matrix\\n',rfc_matrix1)"
   ]
  },
  {
   "cell_type": "code",
   "execution_count": 82,
   "metadata": {},
   "outputs": [],
   "source": [
    "# KNN\n",
    "\n",
    "empty_list=[]\n",
    "neighbors= np.arange(3,15)\n",
    "for k in neighbors:\n",
    "    classifier=KNeighborsClassifier(n_neighbors=k,metric='minkowski')\n",
    "    classifier.fit(x_train,y_train)\n",
    "    \n",
    "    pred=classifier.predict(x_test)\n",
    "    acc=accuracy_score(y_test,pred)\n",
    "    empty_list.append(acc)"
   ]
  },
  {
   "cell_type": "code",
   "execution_count": 83,
   "metadata": {},
   "outputs": [
    {
     "data": {
      "text/plain": [
       "Text(0, 0.5, 'Accuracy')"
      ]
     },
     "execution_count": 83,
     "metadata": {},
     "output_type": "execute_result"
    },
    {
     "data": {
      "image/png": "[encoded data removed]",
      "text/plain": [
       "<Figure size 432x288 with 1 Axes>"
      ]
     },
     "metadata": {
      "needs_background": "light"
     },
     "output_type": "display_data"
    }
   ],
   "source": [
    "plt.plot(neighbors,empty_list,'*-')\n",
    "plt.xlabel('k-values')\n",
    "plt.ylabel('Accuracy')"
   ]
  },
  {
   "cell_type": "code",
   "execution_count": 84,
   "metadata": {},
   "outputs": [],
   "source": [
    "# Highest accuracy is for the k value 7\n",
    "# Remodelling with highest accuracy k value (7)\n",
    "\n",
    "classifier=KNeighborsClassifier(n_neighbors=(7),metric='minkowski')\n",
    "classifier.fit(x_train,y_train)\n",
    "knn_pred1=classifier.predict(x_test)"
   ]
  },
  {
   "cell_type": "code",
   "execution_count": 85,
   "metadata": {},
   "outputs": [],
   "source": [
    "knn_acc1=accuracy_score(y_test,knn_pred1)\n",
    "knn_pre1=precision_score(y_test,knn_pred1,average='weighted')\n",
    "knn_f11=f1_score(y_test,knn_pred1,average='weighted')\n",
    "knn_recall1=recall_score(y_test,knn_pred1,average='weighted')\n",
    "knn_matrix1=confusion_matrix(y_test,knn_pred1)"
   ]
  },
  {
   "cell_type": "code",
   "execution_count": 86,
   "metadata": {},
   "outputs": [
    {
     "name": "stdout",
     "output_type": "stream",
     "text": [
      "Accuracy score is 0.7946276776606597\n",
      "Precision score is 0.7933154152771942\n",
      "F1 score is 0.7911166128838244\n",
      "Recall score is 0.7946276776606597\n",
      "\n",
      " Confusion Matrix\n",
      " [[21507  1045   924   676]\n",
      " [  310 25369  2971  1581]\n",
      " [ 1642  2907 21781   907]\n",
      " [ 2406  2910  2257 10801]]\n"
     ]
    }
   ],
   "source": [
    "print('Accuracy score is',knn_acc1)\n",
    "print('Precision score is',knn_pre1)\n",
    "print('F1 score is',knn_f11)\n",
    "print('Recall score is',knn_recall1)\n",
    "print('\\n Confusion Matrix\\n',knn_matrix1)"
   ]
  },
  {
   "cell_type": "code",
   "execution_count": 87,
   "metadata": {},
   "outputs": [],
   "source": [
    "# Extreme Gradient Boost\n",
    "\n",
    "xgb=XGBClassifier()\n",
    "xgb.fit(x_train,y_train)\n",
    "xgb_pred1=xgb.predict(x_test)"
   ]
  },
  {
   "cell_type": "code",
   "execution_count": 88,
   "metadata": {},
   "outputs": [],
   "source": [
    "xgb_acc1=accuracy_score(y_test,xgb_pred1)\n",
    "xgb_pre1=precision_score(y_test,xgb_pred1,average='weighted')\n",
    "xgb_f11=f1_score(y_test,xgb_pred1,average='weighted')\n",
    "xgb_recall1=recall_score(y_test,xgb_pred1,average='weighted')\n",
    "xgb_matrix1=confusion_matrix(y_test,xgb_pred1)"
   ]
  },
  {
   "cell_type": "code",
   "execution_count": 89,
   "metadata": {},
   "outputs": [
    {
     "name": "stdout",
     "output_type": "stream",
     "text": [
      "Accuracy score is 0.8033982038922335\n",
      "Precision score is 0.8026448605102968\n",
      "F1 score is 0.8022089065164891\n",
      "Recall score is 0.8033982038922335\n",
      "\n",
      " Confusion Matrix\n",
      " [[21461  1153   824   714]\n",
      " [   59 24265  3580  2327]\n",
      " [ 1822  1899 22370  1146]\n",
      " [ 1916  1915  2304 12239]]\n"
     ]
    }
   ],
   "source": [
    "print('Accuracy score is',xgb_acc1)\n",
    "print('Precision score is',xgb_pre1)\n",
    "print('F1 score is',xgb_f11)\n",
    "print('Recall score is',xgb_recall1)\n",
    "print('\\n Confusion Matrix\\n',xgb_matrix1)"
   ]
  },
  {
   "cell_type": "code",
   "execution_count": 90,
   "metadata": {},
   "outputs": [],
   "source": [
    "gb=GradientBoostingClassifier()\n",
    "gb.fit(x_train,y_train)\n",
    "gb_pred1=gb.predict(x_test)"
   ]
  },
  {
   "cell_type": "code",
   "execution_count": 91,
   "metadata": {},
   "outputs": [],
   "source": [
    "gb_acc1=accuracy_score(y_test,gb_pred1)\n",
    "gb_pre1=precision_score(y_test,gb_pred1,average='weighted')\n",
    "gb_f11=f1_score(y_test,gb_pred1,average='weighted')\n",
    "gb_recall1=recall_score(y_test,gb_pred1,average='weighted')\n",
    "gb_matrix1=confusion_matrix(y_test,gb_pred1)"
   ]
  },
  {
   "cell_type": "code",
   "execution_count": 92,
   "metadata": {},
   "outputs": [
    {
     "name": "stdout",
     "output_type": "stream",
     "text": [
      "Accuracy score is 0.8034182050923055\n",
      "Precision score is 0.8019073566836235\n",
      "F1 score is 0.8021639798822431\n",
      "Recall score is 0.8034182050923055\n",
      "\n",
      " Confusion Matrix\n",
      " [[21461  1055   824   812]\n",
      " [   59 25471  2405  2296]\n",
      " [ 1822  3078 20896  1441]\n",
      " [ 1916  1971  1978 12509]]\n"
     ]
    }
   ],
   "source": [
    "print('Accuracy score is',gb_acc1)\n",
    "print('Precision score is',gb_pre1)\n",
    "print('F1 score is',gb_f11)\n",
    "print('Recall score is',gb_recall1)\n",
    "print('\\n Confusion Matrix\\n',gb_matrix1)"
   ]
  },
  {
   "cell_type": "markdown",
   "metadata": {},
   "source": [
    "# Hyper Parameter Tuning"
   ]
  },
  {
   "cell_type": "markdown",
   "metadata": {},
   "source": [
    "# Decision Tree Classifier"
   ]
  },
  {
   "cell_type": "code",
   "execution_count": 145,
   "metadata": {},
   "outputs": [],
   "source": [
    "# Model building using Decision Tree Classifier\n",
    "\n",
    "dtree=DecisionTreeClassifier(criterion='gini',max_depth=12)\n",
    "dtree_model=dtree.fit(x_train,y_train)\n",
    "dtree_pred=dtree.predict(x_test)"
   ]
  },
  {
   "cell_type": "code",
   "execution_count": 146,
   "metadata": {},
   "outputs": [],
   "source": [
    "dtree_acc=accuracy_score(y_test,dtree_pred)\n",
    "dtree_pre=precision_score(y_test,dtree_pred,average='weighted')\n",
    "dtree_f1=f1_score(y_test,dtree_pred,average='weighted')\n",
    "dtree_recall=recall_score(y_test,dtree_pred,average='weighted')\n",
    "dtree_matrix=confusion_matrix(y_test,dtree_pred)"
   ]
  },
  {
   "cell_type": "code",
   "execution_count": 147,
   "metadata": {},
   "outputs": [
    {
     "name": "stdout",
     "output_type": "stream",
     "text": [
      "Accuracy score is 0.8033982038922335\n",
      "Precision score is 0.8026448605102968\n",
      "F1 score is 0.8022089065164891\n",
      "Recall score is 0.8033982038922335\n",
      "\n",
      " Confusion Matrix\n",
      " [[21461  1153   824   714]\n",
      " [   59 24265  3580  2327]\n",
      " [ 1822  1899 22370  1146]\n",
      " [ 1916  1915  2304 12239]]\n"
     ]
    }
   ],
   "source": [
    "print('Accuracy score is',dtree_acc)\n",
    "print('Precision score is',dtree_pre)\n",
    "print('F1 score is',dtree_f1)\n",
    "print('Recall score is',dtree_recall)\n",
    "print('\\n Confusion Matrix\\n',dtree_matrix)"
   ]
  },
  {
   "cell_type": "markdown",
   "metadata": {},
   "source": [
    "# Model Evaluation"
   ]
  },
  {
   "cell_type": "code",
   "execution_count": 93,
   "metadata": {},
   "outputs": [
    {
     "data": {
      "image/png": "[encoded data removed]",
      "text/plain": [
       "<Figure size 720x432 with 1 Axes>"
      ]
     },
     "metadata": {
      "needs_background": "light"
     },
     "output_type": "display_data"
    }
   ],
   "source": [
    "# Line Plot Comparisons betweeen Accuracy scores of different models before and after Normalization\n",
    "\n",
    "Accuracy_score=[log_acc,knn_acc,rfc_acc,dtree_acc,gb_acc,xgb_acc]\n",
    "Accuracy_score1=[log_acc1,knn_acc1,rfc_acc1,dtree_acc1,gb_acc1,xgb_acc1]\n",
    "Models=['Logistic regression','KNN','Random Forest','Decison tree','Gradient Boost model','Extreme Gradient Boost Model']\n",
    "plt.figure(figsize=(10,6))\n",
    "plt.title('Line plot of Accuracy scores between models')\n",
    "sns.lineplot(x=Models,y=Accuracy_score,marker='o',label='Before Normalize')\n",
    "sns.lineplot(x=Models,y=Accuracy_score1,marker='o',label='After Normalize')\n",
    "plt.xlabel('Models')\n",
    "plt.xticks(rotation=45)\n",
    "plt.ylabel('Accuracy scores')\n",
    "plt.legend()\n",
    "plt.show()"
   ]
  },
  {
   "cell_type": "code",
   "execution_count": 94,
   "metadata": {},
   "outputs": [
    {
     "data": {
      "image/png": "[encoded data removed]",
      "text/plain": [
       "<Figure size 720x432 with 1 Axes>"
      ]
     },
     "metadata": {
      "needs_background": "light"
     },
     "output_type": "display_data"
    }
   ],
   "source": [
    "# Line Plot Comparisons betweeen Recall scores of different models before and after Normalization\n",
    "\n",
    "Recall_score=[log_recall,knn_recall,rfc_recall,dtree_recall,gb_recall,xgb_recall]\n",
    "Recall_score1=[log_recall1,knn_recall1,rfc_recall1,dtree_recall1,gb_recall1,xgb_recall1]\n",
    "Models=['Logistic_regression','KNN','Random_Forest','Decison_tree','Gradient Boost model','Extreme Gradient Boost Model']\n",
    "plt.figure(figsize=(10,6))\n",
    "plt.title('Line plot of Recall scores between models')\n",
    "sns.lineplot(x=Models,y=Recall_score,marker='o',label='Before Normalize')\n",
    "sns.lineplot(x=Models,y=Recall_score1,marker='o',label='After Normalize')\n",
    "plt.xlabel('Models')\n",
    "plt.xticks(rotation=45)\n",
    "plt.ylabel('Recall scores')\n",
    "plt.legend()\n",
    "plt.show()"
   ]
  },
  {
   "cell_type": "code",
   "execution_count": 95,
   "metadata": {},
   "outputs": [
    {
     "data": {
      "image/png": "[encoded data removed]",
      "text/plain": [
       "<Figure size 720x432 with 1 Axes>"
      ]
     },
     "metadata": {
      "needs_background": "light"
     },
     "output_type": "display_data"
    }
   ],
   "source": [
    "# Line Plot Comparisons betweeen F1 scores of different models before and after Normalization\n",
    "\n",
    "F1_score=[log_f1,knn_f1,rfc_f1,dtree_f1,gb_f1,xgb_f1]\n",
    "F1_score1=[log_f11,knn_f11,rfc_f11,dtree_f11,gb_f11,xgb_f11]\n",
    "Models=['Logistic_regression','KNN','Random_Forest','Decison_tree','Gradient Boost model','Extreme Gradient Boost Model']\n",
    "plt.figure(figsize=(10,6))\n",
    "plt.title('Line plot of F1 scores between models')\n",
    "sns.lineplot(x=Models,y=F1_score,marker='o',label='Before Normalize')\n",
    "sns.lineplot(x=Models,y=F1_score1,marker='o',label='After Normalize')\n",
    "plt.xlabel('Models')\n",
    "plt.xticks(rotation=45)\n",
    "plt.ylabel('F1 scores')\n",
    "plt.legend()\n",
    "plt.show()"
   ]
  },
  {
   "cell_type": "code",
   "execution_count": 96,
   "metadata": {},
   "outputs": [
    {
     "data": {
      "image/png": "[encoded data removed]",
      "text/plain": [
       "<Figure size 720x432 with 1 Axes>"
      ]
     },
     "metadata": {
      "needs_background": "light"
     },
     "output_type": "display_data"
    }
   ],
   "source": [
    "# Line Plot Comparisons betweeen Precision scores of different models before and after Normalization\n",
    "\n",
    "Precision_score=[log_pre,knn_pre,rfc_pre,dtree_pre,gb_pre,xgb_pre]\n",
    "Precision_score1=[log_pre1,knn_pre1,rfc_pre1,dtree_pre1,gb_pre1,xgb_pre1]\n",
    "Models=['Logistic_regression','KNN','Random_Forest','Decison_tree','Gradient Boost model','Extreme Gradient Boost Model']\n",
    "plt.figure(figsize=(10,6))\n",
    "plt.title('Line plot of Precision scores between models')\n",
    "sns.lineplot(x=Models,y=Precision_score,marker='o',label='Before Normalize')\n",
    "sns.lineplot(x=Models,y=Precision_score1,marker='o',label='After Normalize')\n",
    "plt.xlabel('Models')\n",
    "plt.xticks(rotation=45)\n",
    "plt.ylabel('Precision scores')\n",
    "plt.legend()\n",
    "plt.show()"
   ]
  },
  {
   "cell_type": "code",
   "execution_count": 97,
   "metadata": {},
   "outputs": [
    {
     "data": {
      "image/png": "[encoded data removed]",
      "text/plain": [
       "<Figure size 720x432 with 1 Axes>"
      ]
     },
     "metadata": {
      "needs_background": "light"
     },
     "output_type": "display_data"
    }
   ],
   "source": [
    "# Line Plot Comparisons betweeen F1 scores of different models before and after Normalization\n",
    "\n",
    "F1_score=[log_f1,knn_f1,rfc_f1,dtree_f1,gb_f1,xgb_f1]\n",
    "Models=['Logistic_regression','KNN','Random_Forest','Decison_tree','Gradient Boost model','Extreme Gradient Boost Model']\n",
    "plt.figure(figsize=(10,6))\n",
    "plt.title('Bar plot of F1 scores between models')\n",
    "plt.bar(Models,F1_score,color=['skyblue', 'skyblue', 'red', 'red', 'red', 'red'])\n",
    "plt.xlabel('Models')\n",
    "plt.xticks(rotation=45)\n",
    "plt.ylabel('F1 scores')\n",
    "plt.show()"
   ]
  },
  {
   "cell_type": "code",
   "execution_count": 98,
   "metadata": {},
   "outputs": [
    {
     "data": {
      "text/plain": [
       "array(['vomiting'], dtype=object)"
      ]
     },
     "execution_count": 98,
     "metadata": {},
     "output_type": "execute_result"
    }
   ],
   "source": [
    "# Predictng the landslide using new values\n",
    "\n",
    "new_inputs=[['65','0','1','0', '0', '1']]\n",
    "out = dtree.predict(new_inputs)\n",
    "out"
   ]
  },
  {
   "cell_type": "code",
   "execution_count": null,
   "metadata": {},
   "outputs": [],
   "source": []
  }
 ],
 "metadata": {
  "kernelspec": {
   "display_name": "Python 3",
   "language": "python",
   "name": "python3"
  },
  "language_info": {
   "codemirror_mode": {
    "name": "ipython",
    "version": 3
   },
   "file_extension": ".py",
   "mimetype": "text/x-python",
   "name": "python",
   "nbconvert_exporter": "python",
   "pygments_lexer": "ipython3",
   "version": "3.8.3"
  }
 },
 "nbformat": 4,
 "nbformat_minor": 4
}
